{
 "cells": [
  {
   "cell_type": "markdown",
   "id": "66e18213",
   "metadata": {},
   "source": [
    "### Introduction"
   ]
  },
  {
   "cell_type": "markdown",
   "id": "8d3a95ad",
   "metadata": {},
   "source": [
    "The Galaxy Evolution Explorer (GALEX) is a NASA mission that observed between July 7, 2003 and February 7, 2012 with the goal of investigating star formation evolution in galaxies from the early Universe to present day. With a 1.25 degree field-of-view, the telescope took direct images in the near-UV (NUV) and far-UV (FUV) wavelengths using microchannel plate detectors, and low resolution spectroscopy was obtained using a grism. Data was collected as time-tagged photon events and science data was only taken while behind Earth’s shadow (referred to as an “eclipse”).\n",
    "\n",
    "These data are now available in the public S3 bucket on AWS and can be accessed anonymously through astroquery.mast.Observations. The S3 path for GALEX data is s3://stpubdata/galex and the data volume hosted there is approximately 21 TB of GALEX Release (GR) 6 and 7 data cumulatively."
   ]
  },
  {
   "cell_type": "markdown",
   "id": "f705b6e9",
   "metadata": {},
   "source": [
    "### GALEX data cloud access with `astroquery.mast`"
   ]
  },
  {
   "cell_type": "markdown",
   "id": "95fe77c0",
   "metadata": {},
   "source": [
    "The data currently available are GALEX Release (GR) 6 and 7. Users can verify whether or not their products are in the cloud by making a call to `astroquery.mast.Observations.get_cloud_uri` (for a single product) or `astroquery.mast.Observations.get_cloud_uris` (for multiple products).\n",
    "\n",
    "Below we will run a simple example of accessing GALEX data from the cloud using `astroquery.mast`."
   ]
  },
  {
   "cell_type": "markdown",
   "id": "015fe46b",
   "metadata": {},
   "source": [
    "We begin by querying for program 31411 using the query_criteria method in `astroquery.mast.Observations`."
   ]
  },
  {
   "cell_type": "code",
   "execution_count": 43,
   "id": "24d58893",
   "metadata": {},
   "outputs": [],
   "source": [
    "from astroquery.mast import Observations\n",
    "\n",
    "observations = Observations.query_criteria(obsid='31411')"
   ]
  },
  {
   "cell_type": "markdown",
   "id": "afffcfe6",
   "metadata": {},
   "source": [
    "The output to this query_criteria call is seen below. It is a GALEX program that observed the target M1."
   ]
  },
  {
   "cell_type": "code",
   "execution_count": 44,
   "id": "42f9fd9f",
   "metadata": {},
   "outputs": [
    {
     "data": {
      "text/html": [
       "<div><i>Table masked=True length=1</i>\n",
       "<table id=\"table5113286960\" class=\"table-striped table-bordered table-condensed\">\n",
       "<thead><tr><th>dataproduct_type</th><th>calib_level</th><th>obs_collection</th><th>obs_id</th><th>target_name</th><th>s_ra</th><th>s_dec</th><th>t_min</th><th>t_max</th><th>t_exptime</th><th>wavelength_region</th><th>filters</th><th>em_min</th><th>em_max</th><th>target_classification</th><th>obs_title</th><th>t_obs_release</th><th>instrument_name</th><th>proposal_pi</th><th>proposal_id</th><th>proposal_type</th><th>project</th><th>sequence_number</th><th>provenance_name</th><th>s_region</th><th>jpegURL</th><th>dataURL</th><th>dataRights</th><th>mtFlag</th><th>srcDen</th><th>intentType</th><th>obsid</th><th>objID</th></tr></thead>\n",
       "<thead><tr><th>str5</th><th>int64</th><th>str5</th><th>str19</th><th>str12</th><th>float64</th><th>float64</th><th>float64</th><th>float64</th><th>float64</th><th>str2</th><th>str3</th><th>float64</th><th>float64</th><th>str1</th><th>str1</th><th>float64</th><th>str5</th><th>str1</th><th>str1</th><th>str3</th><th>str3</th><th>int64</th><th>str3</th><th>str43</th><th>str117</th><th>str112</th><th>str6</th><th>bool</th><th>float64</th><th>str7</th><th>str5</th><th>str5</th></tr></thead>\n",
       "<tr><td>image</td><td>2</td><td>GALEX</td><td>6381787756527353856</td><td>AIS_309_1_28</td><td>83.49715416019251</td><td>22.0648638252376</td><td>55894.42565972222</td><td>55894.49506944444</td><td>167.0</td><td>UV</td><td>NUV</td><td>169300000000.0</td><td>300700000000.0</td><td>--</td><td>--</td><td>56188.7607291</td><td>GALEX</td><td>--</td><td>--</td><td>AIS</td><td>AIS</td><td>--</td><td>AIS</td><td>CIRCLE ICRS  83.49715416  22.06486383 0.625</td><td>http://galex.stsci.edu/data/GR6/pipe/02-vsn/50309-AIS_309/d/01-main/0001-img/07-try/qa/AIS_309_sg28-xd-int_2color.jpg</td><td>http://galex.stsci.edu/data/GR6/pipe/02-vsn/50309-AIS_309/d/01-main/0001-img/07-try/AIS_309_sg28-xd-mcat.fits.gz</td><td>PUBLIC</td><td>--</td><td>5885.0</td><td>science</td><td>31411</td><td>54974</td></tr>\n",
       "</table></div>"
      ],
      "text/plain": [
       "<Table masked=True length=1>\n",
       "dataproduct_type calib_level obs_collection ... intentType obsid objID\n",
       "      str5          int64         str5      ...    str7     str5  str5\n",
       "---------------- ----------- -------------- ... ---------- ----- -----\n",
       "           image           2          GALEX ...    science 31411 54974"
      ]
     },
     "execution_count": 44,
     "metadata": {},
     "output_type": "execute_result"
    }
   ],
   "source": [
    "observations"
   ]
  },
  {
   "cell_type": "markdown",
   "id": "87abf433",
   "metadata": {},
   "source": [
    "The next goal is to find the products that correspond to this observation which we will do with the get_product_list method in astroquery.mast.Observations. Products will be filtered further using filter_products to return only science products."
   ]
  },
  {
   "cell_type": "code",
   "execution_count": 45,
   "id": "62dd38d0",
   "metadata": {},
   "outputs": [
    {
     "name": "stdout",
     "output_type": "stream",
     "text": [
      "obsID  obs_collection dataproduct_type ... parent_obsid dataRights calib_level\n",
      "------ -------------- ---------------- ... ------------ ---------- -----------\n",
      "113214          GALEX            image ...        31411     PUBLIC           2\n",
      "113215          GALEX            image ...        31411     PUBLIC           2\n",
      " 31411          GALEX            image ...        31411     PUBLIC           2\n"
     ]
    }
   ],
   "source": [
    "products = Observations.get_product_list(observations[0])\n",
    "filtered = Observations.filter_products(products,\n",
    "                                        productType='SCIENCE')\n",
    "\n",
    "print(filtered)"
   ]
  },
  {
   "cell_type": "markdown",
   "id": "8fd7fb8b",
   "metadata": {},
   "source": [
    "From here, users can download the desired products from the cloud by calling `astroquery.mast.Observations.download_products` and setting the `cloud_only` parameter to `True`. Remember that to pull GALEX data from the cloud, anonymous cloud access must be enabled via the `Observations.enable_cloud_dataset()` call, otherwise the download will default to pulling from the MAST Portal."
   ]
  },
  {
   "cell_type": "code",
   "execution_count": null,
   "id": "85d21b2c",
   "metadata": {},
   "outputs": [],
   "source": [
    "# Enabling anonymous cloud access to public s3 bucket\n",
    "Observations.enable_cloud_dataset()"
   ]
  },
  {
   "cell_type": "markdown",
   "id": "03327f27",
   "metadata": {},
   "source": [
    "If download location is not specified, products will be downloaded in the current working directory and stored under a generated `mastDownload` folder."
   ]
  },
  {
   "cell_type": "code",
   "execution_count": null,
   "id": "32ab6c19",
   "metadata": {},
   "outputs": [],
   "source": [
    "# Downloading files \n",
    "Observations.download_products(filtered, cloud_only=True)"
   ]
  },
  {
   "cell_type": "markdown",
   "id": "7b60abdb",
   "metadata": {},
   "source": [
    "### Handling retrieved GALEX data"
   ]
  },
  {
   "cell_type": "markdown",
   "id": "e044a338",
   "metadata": {},
   "source": [
    "The data will be downloaded compressed via GNU zip, but content can be handled with astropy.io.fits the same way a non-compressed FITS file would be handled. [See here](https://docs.astropy.org/en/stable/io/fits/usage/unfamiliar.html#compressed-image-data) for more information on handling compressed files with `astropy.io.fits`.\n",
    "\n",
    "As shown in the output above, the delimited filetype descriptor `nd-int` is shown in the file suffix of all the filenames, denoting that these are intensity maps (J2000) in NUV of the full GALEX FOV in counts per second per pixel, corrected for relative response ([source](http://galex.stsci.edu/gr6/?page=ddfaq)). Let's inspect these files to verify that is the case."
   ]
  },
  {
   "cell_type": "code",
   "execution_count": null,
   "id": "edf91bab",
   "metadata": {
    "scrolled": true
   },
   "outputs": [],
   "source": [
    "from astropy.io import fits\n",
    "from glob import glob\n",
    "\n",
    "files = glob('./mastDownload/GALEX/*/*.fits*')\n",
    "\n",
    "for file, n in zip(files, range(0, 3)):\n",
    "    print(fits.info(file))\n",
    "    data = fits.getdata(file)\n",
    "    \n",
    "    plt.figure(n)\n",
    "    plt.imshow(data, vmin=0, vmax=0.1, origin='lower')"
   ]
  },
  {
   "cell_type": "markdown",
   "id": "a65d2888",
   "metadata": {},
   "source": [
    "From this we can see that all the files were downloaded properly without any corruption to data, and can be handled as you would a non-compressed FITS file. "
   ]
  }
 ],
 "metadata": {
  "kernelspec": {
   "display_name": "Python 3 (ipykernel)",
   "language": "python",
   "name": "python3"
  },
  "language_info": {
   "codemirror_mode": {
    "name": "ipython",
    "version": 3
   },
   "file_extension": ".py",
   "mimetype": "text/x-python",
   "name": "python",
   "nbconvert_exporter": "python",
   "pygments_lexer": "ipython3",
   "version": "3.9.7"
  }
 },
 "nbformat": 4,
 "nbformat_minor": 5
}
