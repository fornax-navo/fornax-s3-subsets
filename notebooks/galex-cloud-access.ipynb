{
 "cells": [
  {
   "cell_type": "markdown",
   "id": "388c4c2a",
   "metadata": {},
   "source": [
    "### Introduction"
   ]
  },
  {
   "cell_type": "markdown",
   "id": "cebd3fa1",
   "metadata": {},
   "source": [
    "The Galaxy Evolution Explorer (GALEX) is a NASA mission that observed between July 7, 2003 and February 7, 2012 with the goal of investigating star formation evolution in galaxies from the early Universe to present day. With a 1.25 degree field-of-view, the telescope took direct images in the near-UV (NUV) and far-UV (FUV) wavelengths using microchannel plate detectors, and low resolution spectroscopy was obtained using a grism. Data was collected as time-tagged photon events and science data was only taken while behind Earth’s shadow (referred to as an “eclipse”).\n",
    "\n",
    "These data are now available in the public S3 bucket on AWS and can be accessed anonymously through astroquery.mast.Observations. The S3 path for GALEX data is s3://stpubdata/galex and the data volume hosted there is approximately 21 TB of GR 6 and 7 data cumulatively."
   ]
  },
  {
   "cell_type": "markdown",
   "id": "abfd73c7",
   "metadata": {},
   "source": [
    "### GALEX data cloud access with `astroquery.mast`"
   ]
  },
  {
   "cell_type": "markdown",
   "id": "62d96a64",
   "metadata": {},
   "source": [
    "The data currently available are Galaxy Release (GR) 6 and 7. Users can verify whether or not their products are in the cloud by making a call to astroquery.mast.Observations.get_cloud_uri (for a single product) or astroquery.mast.Observations.get_cloud_uris (for multiple products).\n",
    "\n",
    "Below we will run a simple example of accessing GALEX data from the cloud using `astroquery.mast`."
   ]
  },
  {
   "cell_type": "markdown",
   "id": "1f363fc8",
   "metadata": {},
   "source": [
    "We begin by querying for program 31411 using the query_criteria method in `astroquery.mast.Observations`."
   ]
  },
  {
   "cell_type": "code",
   "execution_count": 2,
   "id": "b428bdf4",
   "metadata": {},
   "outputs": [],
   "source": [
    "from astroquery.mast import Observations\n",
    "\n",
    "observations = Observations.query_criteria(obsid='31411')"
   ]
  },
  {
   "cell_type": "markdown",
   "id": "cbe21b01",
   "metadata": {},
   "source": [
    "The output to this query_criteria call is seen below. It is a GALEX program that observed the target M1."
   ]
  },
  {
   "cell_type": "code",
   "execution_count": 3,
   "id": "e3244311",
   "metadata": {},
   "outputs": [
    {
     "data": {
      "text/html": [
       "<div><i>Table masked=True length=1</i>\n",
       "<table id=\"table4345477008\" class=\"table-striped table-bordered table-condensed\">\n",
       "<thead><tr><th>dataproduct_type</th><th>calib_level</th><th>obs_collection</th><th>obs_id</th><th>target_name</th><th>s_ra</th><th>s_dec</th><th>t_min</th><th>t_max</th><th>t_exptime</th><th>wavelength_region</th><th>filters</th><th>em_min</th><th>em_max</th><th>target_classification</th><th>obs_title</th><th>t_obs_release</th><th>instrument_name</th><th>proposal_pi</th><th>proposal_id</th><th>proposal_type</th><th>project</th><th>sequence_number</th><th>provenance_name</th><th>s_region</th><th>jpegURL</th><th>dataURL</th><th>dataRights</th><th>mtFlag</th><th>srcDen</th><th>intentType</th><th>obsid</th><th>objID</th></tr></thead>\n",
       "<thead><tr><th>str5</th><th>int64</th><th>str5</th><th>str19</th><th>str12</th><th>float64</th><th>float64</th><th>float64</th><th>float64</th><th>float64</th><th>str2</th><th>str3</th><th>float64</th><th>float64</th><th>str1</th><th>str1</th><th>float64</th><th>str5</th><th>str1</th><th>str1</th><th>str3</th><th>str3</th><th>int64</th><th>str3</th><th>str43</th><th>str117</th><th>str112</th><th>str6</th><th>bool</th><th>float64</th><th>str7</th><th>str5</th><th>str5</th></tr></thead>\n",
       "<tr><td>image</td><td>2</td><td>GALEX</td><td>6381787756527353856</td><td>AIS_309_1_28</td><td>83.49715416019251</td><td>22.0648638252376</td><td>55894.42565972222</td><td>55894.49506944444</td><td>167.0</td><td>UV</td><td>NUV</td><td>169300000000.0</td><td>300700000000.0</td><td>--</td><td>--</td><td>56188.7607291</td><td>GALEX</td><td>--</td><td>--</td><td>AIS</td><td>AIS</td><td>--</td><td>AIS</td><td>CIRCLE ICRS  83.49715416  22.06486383 0.625</td><td>http://galex.stsci.edu/data/GR6/pipe/02-vsn/50309-AIS_309/d/01-main/0001-img/07-try/qa/AIS_309_sg28-xd-int_2color.jpg</td><td>http://galex.stsci.edu/data/GR6/pipe/02-vsn/50309-AIS_309/d/01-main/0001-img/07-try/AIS_309_sg28-xd-mcat.fits.gz</td><td>PUBLIC</td><td>--</td><td>5885.0</td><td>science</td><td>31411</td><td>54974</td></tr>\n",
       "</table></div>"
      ],
      "text/plain": [
       "<Table masked=True length=1>\n",
       "dataproduct_type calib_level obs_collection ... intentType obsid objID\n",
       "      str5          int64         str5      ...    str7     str5  str5\n",
       "---------------- ----------- -------------- ... ---------- ----- -----\n",
       "           image           2          GALEX ...    science 31411 54974"
      ]
     },
     "execution_count": 3,
     "metadata": {},
     "output_type": "execute_result"
    }
   ],
   "source": [
    "observations"
   ]
  },
  {
   "cell_type": "markdown",
   "id": "b17f9b0f",
   "metadata": {},
   "source": [
    "The next goal is to find the products that correspond to this observation which we will do with the get_product_list method in astroquery.mast.Observations. Products will be filtered further using filter_products to return only science products."
   ]
  },
  {
   "cell_type": "code",
   "execution_count": 5,
   "id": "1383a34d",
   "metadata": {},
   "outputs": [
    {
     "name": "stdout",
     "output_type": "stream",
     "text": [
      "obsID  obs_collection dataproduct_type ... parent_obsid dataRights calib_level\n",
      "------ -------------- ---------------- ... ------------ ---------- -----------\n",
      "113214          GALEX            image ...        31411     PUBLIC           2\n",
      "113215          GALEX            image ...        31411     PUBLIC           2\n",
      " 31411          GALEX            image ...        31411     PUBLIC           2\n"
     ]
    }
   ],
   "source": [
    "products = Observations.get_product_list(observations[0])\n",
    "filtered = Observations.filter_products(products,\n",
    "                                        productType='SCIENCE')\n",
    "\n",
    "print(filtered)"
   ]
  },
  {
   "cell_type": "markdown",
   "id": "5f5e086e",
   "metadata": {},
   "source": [
    "From here, users can download the desired products from the cloud by calling astroquery.mast.Observations.download_products and setting cloud_only to True. Remember that to pull GALEX data from the cloud, anonymous cloud access must be enabled via the Observations.enable_cloud_dataset() call, otherwise the download will default to pulling from the MAST Portal."
   ]
  },
  {
   "cell_type": "code",
   "execution_count": 6,
   "id": "cdcaf7ed",
   "metadata": {},
   "outputs": [
    {
     "name": "stdout",
     "output_type": "stream",
     "text": [
      "INFO: Using the S3 STScI public dataset [astroquery.mast.cloud]\n"
     ]
    }
   ],
   "source": [
    "# Enabling anonymous cloud access to public s3 bucket\n",
    "Observations.enable_cloud_dataset()"
   ]
  },
  {
   "cell_type": "code",
   "execution_count": 7,
   "id": "b5cb2e02",
   "metadata": {},
   "outputs": [
    {
     "name": "stdout",
     "output_type": "stream",
     "text": [
      "Downloading URL s3://stpubdata/galex/GR6/pipe/02-vsn/50309-AIS_309/d/00-visits/0001-img/07-try/AIS_309_0001_sg28-nd-int.fits.gz to ./mastDownload/GALEX/6381787619088400384/AIS_309_0001_sg28-nd-int.fits.gz ... [Done]\n",
      "Downloading URL s3://stpubdata/galex/GR6/pipe/02-vsn/50309-AIS_309/d/00-visits/0002-img/07-try/AIS_309_0002_sg28-nd-int.fits.gz to ./mastDownload/GALEX/6381787619121954816/AIS_309_0002_sg28-nd-int.fits.gz ... [Done]\n",
      "Downloading URL s3://stpubdata/galex/GR6/pipe/02-vsn/50309-AIS_309/d/01-main/0001-img/07-try/AIS_309_sg28-nd-int.fits.gz to ./mastDownload/GALEX/6381787756527353856/AIS_309_sg28-nd-int.fits.gz ... [Done]\n"
     ]
    },
    {
     "data": {
      "text/html": [
       "<div><i>Table length=3</i>\n",
       "<table id=\"table4345188256\" class=\"table-striped table-bordered table-condensed\">\n",
       "<thead><tr><th>Local Path</th><th>Status</th><th>Message</th><th>URL</th></tr></thead>\n",
       "<thead><tr><th>str73</th><th>str8</th><th>object</th><th>object</th></tr></thead>\n",
       "<tr><td>./mastDownload/GALEX/6381787619088400384/AIS_309_0001_sg28-nd-int.fits.gz</td><td>COMPLETE</td><td>None</td><td>None</td></tr>\n",
       "<tr><td>./mastDownload/GALEX/6381787619121954816/AIS_309_0002_sg28-nd-int.fits.gz</td><td>COMPLETE</td><td>None</td><td>None</td></tr>\n",
       "<tr><td>./mastDownload/GALEX/6381787756527353856/AIS_309_sg28-nd-int.fits.gz</td><td>COMPLETE</td><td>None</td><td>None</td></tr>\n",
       "</table></div>"
      ],
      "text/plain": [
       "<Table length=3>\n",
       "                                Local Path                                ...\n",
       "                                  str73                                   ...\n",
       "------------------------------------------------------------------------- ...\n",
       "./mastDownload/GALEX/6381787619088400384/AIS_309_0001_sg28-nd-int.fits.gz ...\n",
       "./mastDownload/GALEX/6381787619121954816/AIS_309_0002_sg28-nd-int.fits.gz ...\n",
       "     ./mastDownload/GALEX/6381787756527353856/AIS_309_sg28-nd-int.fits.gz ..."
      ]
     },
     "execution_count": 7,
     "metadata": {},
     "output_type": "execute_result"
    }
   ],
   "source": [
    "# Downloading files \n",
    "Observations.download_products(filtered, cloud_only=True)"
   ]
  },
  {
   "cell_type": "markdown",
   "id": "4824c090",
   "metadata": {},
   "source": [
    "The data will be downloaded compressed via GNU zip, but content can be handled with astropy.io.fits the same way a non-compressed FITS file would be handled. See here for more information on handling compressed files with `astropy.io.fits`."
   ]
  },
  {
   "cell_type": "code",
   "execution_count": null,
   "id": "2ef9cca2",
   "metadata": {},
   "outputs": [],
   "source": []
  }
 ],
 "metadata": {
  "kernelspec": {
   "display_name": "Python 3 (ipykernel)",
   "language": "python",
   "name": "python3"
  },
  "language_info": {
   "codemirror_mode": {
    "name": "ipython",
    "version": 3
   },
   "file_extension": ".py",
   "mimetype": "text/x-python",
   "name": "python",
   "nbconvert_exporter": "python",
   "pygments_lexer": "ipython3",
   "version": "3.9.7"
  }
 },
 "nbformat": 4,
 "nbformat_minor": 5
}
