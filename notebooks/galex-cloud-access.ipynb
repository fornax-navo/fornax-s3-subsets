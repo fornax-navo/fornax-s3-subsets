{
 "cells": [
  {
   "cell_type": "markdown",
   "id": "3afb25d2",
   "metadata": {},
   "source": [
    "### Introduction"
   ]
  },
  {
   "cell_type": "markdown",
   "id": "9b9d15ae",
   "metadata": {},
   "source": [
    "The Galaxy Evolution Explorer (GALEX) is a NASA mission that observed between July 7, 2003 and February 7, 2012 with the goal of investigating star formation evolution in galaxies from the early Universe to present day. With a 1.25 degree field-of-view, the telescope took direct images in the near-UV (NUV) and far-UV (FUV) wavelengths using microchannel plate detectors, and low resolution spectroscopy was obtained using a grism. Data was collected as time-tagged photon events and science data was only taken while behind Earth’s shadow (referred to as an “eclipse”).\n",
    "\n",
    "These data are now available in the public S3 bucket on AWS and can be accessed anonymously through astroquery.mast.Observations. The S3 path for GALEX data is s3://stpubdata/galex and the data volume hosted there is approximately 21 TB of GR 6 and 7 data cumulatively."
   ]
  },
  {
   "cell_type": "markdown",
   "id": "4f5c7233",
   "metadata": {},
   "source": [
    "### GALEX data cloud access with `astroquery.mast`"
   ]
  },
  {
   "cell_type": "markdown",
   "id": "4ae59236",
   "metadata": {},
   "source": [
    "The data currently available are Galaxy Release (GR) 6 and 7. Users can verify whether or not their products are in the cloud by making a call to astroquery.mast.Observations.get_cloud_uri (for a single product) or astroquery.mast.Observations.get_cloud_uris (for multiple products).\n",
    "\n",
    "Below we will run a simple example of accessing GALEX data from the cloud using `astroquery.mast`."
   ]
  },
  {
   "cell_type": "markdown",
   "id": "0390fc49",
   "metadata": {},
   "source": [
    "We begin by querying for program 31411 using the query_criteria method in `astroquery.mast.Observations`."
   ]
  },
  {
   "cell_type": "code",
   "execution_count": null,
   "id": "cb846f02",
   "metadata": {},
   "outputs": [],
   "source": [
    "from astroquery.mast import Observations\n",
    "\n",
    "observations = Observations.query_criteria(obsid='31411')"
   ]
  },
  {
   "cell_type": "markdown",
   "id": "20234c27",
   "metadata": {},
   "source": [
    "The output to this query_criteria call is seen below. It is a GALEX program that observed the target M1."
   ]
  },
  {
   "cell_type": "code",
   "execution_count": null,
   "id": "1961ce9f",
   "metadata": {},
   "outputs": [],
   "source": [
    "observations"
   ]
  },
  {
   "cell_type": "markdown",
   "id": "ff78d92a",
   "metadata": {},
   "source": [
    "The next goal is to find the products that correspond to this observation which we will do with the get_product_list method in astroquery.mast.Observations. Products will be filtered further using filter_products to return only science products."
   ]
  },
  {
   "cell_type": "code",
   "execution_count": null,
   "id": "0217d351",
   "metadata": {},
   "outputs": [],
   "source": [
    "products = Observations.get_product_list(observations[0])\n",
    "filtered = Observations.filter_products(products,\n",
    "                                        productType='SCIENCE')\n",
    "\n",
    "print(filtered)"
   ]
  },
  {
   "cell_type": "markdown",
   "id": "5381909d",
   "metadata": {},
   "source": [
    "From here, users can download the desired products from the cloud by calling `astroquery.mast.Observations.download_products` and setting the `cloud_only` parameter to `True`. Remember that to pull GALEX data from the cloud, anonymous cloud access must be enabled via the `Observations.enable_cloud_dataset()` call, otherwise the download will default to pulling from the MAST Portal."
   ]
  },
  {
   "cell_type": "code",
   "execution_count": null,
   "id": "fa8274c9",
   "metadata": {},
   "outputs": [],
   "source": [
    "# Enabling anonymous cloud access to public s3 bucket\n",
    "Observations.enable_cloud_dataset()"
   ]
  },
  {
   "cell_type": "markdown",
   "id": "53ced3ec",
   "metadata": {},
   "source": [
    "If download location is not specified, products will be downloaded in the current working directory and stored under a generated `mastDownload` folder."
   ]
  },
  {
   "cell_type": "code",
   "execution_count": null,
   "id": "814d59b6",
   "metadata": {},
   "outputs": [],
   "source": [
    "# Downloading files \n",
    "Observations.download_products(filtered, cloud_only=True)"
   ]
  },
  {
   "cell_type": "markdown",
   "id": "2d7bd339",
   "metadata": {},
   "source": [
    "### Handling retrieved GALEX data"
   ]
  },
  {
   "cell_type": "markdown",
   "id": "eaffd12c",
   "metadata": {},
   "source": [
    "The data will be downloaded compressed via GNU zip, but content can be handled with astropy.io.fits the same way a non-compressed FITS file would be handled. [See here](https://docs.astropy.org/en/stable/io/fits/usage/unfamiliar.html#compressed-image-data) for more information on handling compressed files with `astropy.io.fits`.\n",
    "\n",
    "As shown in the output above, the delimited filetype descriptor `nd-int` is shown in the file suffix of all the filenames, denoting that these are intensity maps (J2000) in NUV of the full GALEX FOV in counts per second per pixel, corrected for relative response ([source](http://galex.stsci.edu/gr6/?page=ddfaq)). Let's inspect these files to verify that is the case."
   ]
  },
  {
   "cell_type": "code",
   "execution_count": null,
   "id": "d8bbe05a",
   "metadata": {
    "scrolled": true
   },
   "outputs": [],
   "source": [
    "from astropy.io import fits\n",
    "from glob import glob\n",
    "\n",
    "files = glob('./mastDownload/GALEX/*/*.fits*')\n",
    "\n",
    "for file, n in zip(files, range(0, 3)):\n",
    "    print(fits.info(file))\n",
    "    data = fits.getdata(file)\n",
    "    \n",
    "    plt.figure(n)\n",
    "    plt.imshow(data, vmin=0, vmax=0.1, origin='lower')"
   ]
  },
  {
   "cell_type": "markdown",
   "id": "314dfd02",
   "metadata": {},
   "source": [
    "From this we can see that all the files were downloaded properly without any corruption to data, and can be handled as you would a non-compressed FITS file. "
   ]
  }
 ],
 "metadata": {
  "kernelspec": {
   "display_name": "Python 3 (ipykernel)",
   "language": "python",
   "name": "python3"
  },
  "language_info": {
   "codemirror_mode": {
    "name": "ipython",
    "version": 3
   },
   "file_extension": ".py",
   "mimetype": "text/x-python",
   "name": "python",
   "nbconvert_exporter": "python",
   "pygments_lexer": "ipython3",
   "version": "3.9.7"
  }
 },
 "nbformat": 4,
 "nbformat_minor": 5
}
