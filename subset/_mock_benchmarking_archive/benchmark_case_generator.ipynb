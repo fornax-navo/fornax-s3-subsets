{
 "cells": [
  {
   "cell_type": "code",
   "execution_count": 1,
   "metadata": {
    "pycharm": {
     "name": "#%%\n"
    }
   },
   "outputs": [],
   "source": [
    "\"\"\"\n",
    "generate random fits files satisfying certain criteria and\n",
    "upload them to an s3 bucket\n",
    "\"\"\"\n",
    "from multiprocessing import Pool\n",
    "\n",
    "from killscreen.aws.s3 import Bucket\n",
    "from killscreen.aws.utilities import make_boto_session\n",
    "\n",
    "from s3_fuse.random_generators import fits_file\n",
    "from s3_fuse.bench_config import CASES, SHAPES, GENERATORS\n",
    "from s3_fuse.transfer_config import (\n",
    "    TRANSFERCONFIG, AWS_IAM_SECRETS_FILE, AWS_REGION\n",
    ")\n",
    "\n",
    "BUCKET_NAME = \"bucket_sadly_bare_of_fits_files\""
   ]
  },
  {
   "cell_type": "code",
   "execution_count": null,
   "metadata": {
    "pycharm": {
     "name": "#%%\n"
    }
   },
   "outputs": [],
   "source": [
    "# mock data generating & uploading function\n",
    "def generate_and_upload(case, prefix, quantity):\n",
    "    shape, generator, dtype, hdu_count, compression_type = case\n",
    "    bucket = Bucket(\n",
    "        BUCKET_NAME,\n",
    "        session=make_boto_session(credential_file=AWS_IAM_SECRETS_FILE, region=AWS_REGION),\n",
    "        config=TRANSFERCONFIG\n",
    "    )\n",
    "    for ix in range(quantity):\n",
    "        print(case, ix)\n",
    "        fits_blob = fits_file(\n",
    "            size=SHAPES[shape],\n",
    "            dtype=dtype,\n",
    "            element_generator=GENERATORS[generator],\n",
    "            base_hdu_count=hdu_count,\n",
    "            compression_type=compression_type,\n",
    "            return_bytes=True\n",
    "        )\n",
    "        bucket.put(fits_blob, f\"{prefix}/{prefix}_{ix}.fits\")"
   ]
  },
  {
   "cell_type": "code",
   "execution_count": null,
   "metadata": {
    "pycharm": {
     "name": "#%%\n"
    }
   },
   "outputs": [],
   "source": [
    "# TODO: add ls-type functionality to check existing file counts\n",
    "quantity = 10\n",
    "pool = Pool(5)\n",
    "results = {}\n",
    "\n",
    "# asynchronously map our gen-and-upload function across cases defined in s3_fuse.bench_config\n",
    "for prefix, case in CASES.items():\n",
    "    results[prefix] = pool.apply_async(\n",
    "        generate_and_upload, (case, prefix, quantity)\n",
    "    )\n",
    "pool.close()\n",
    "pool.join()"
   ]
  }
 ],
 "metadata": {
  "kernelspec": {
   "display_name": "Python 3.9.12 64-bit",
   "language": "python",
   "name": "python3"
  },
  "language_info": {
   "codemirror_mode": {
    "name": "ipython",
    "version": 3
   },
   "file_extension": ".py",
   "mimetype": "text/x-python",
   "name": "python",
   "nbconvert_exporter": "python",
   "pygments_lexer": "ipython3",
   "version": "3.9.12"
  },
  "vscode": {
   "interpreter": {
    "hash": "aee8b7b246df8f9039afb4144a1f6fd8d2ca17a180786b69acc140d282b71a49"
   }
  }
 },
 "nbformat": 4,
 "nbformat_minor": 1
}
